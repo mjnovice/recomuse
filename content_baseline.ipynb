{
 "nbformat": 4,
 "nbformat_minor": 2,
 "metadata": {
  "language_info": {
   "name": "python",
   "codemirror_mode": {
    "name": "ipython",
    "version": 3
   }
  },
  "orig_nbformat": 2,
  "file_extension": ".py",
  "mimetype": "text/x-python",
  "name": "python",
  "npconvert_exporter": "python",
  "pygments_lexer": "ipython3",
  "version": 3,
  "kernelspec": {
   "name": "python3",
   "language": "python",
   "display_name": "Python 3"
  },
  "pycharm": {
   "stem_cell": {
    "cell_type": "raw",
    "source": [],
    "metadata": {
     "collapsed": false
    }
   }
  }
 },
 "cells": [
  {
   "cell_type": "markdown",
   "execution_count": null,
   "metadata": {},
   "outputs": [],
   "source": [
    "# Content-based Recommendation Baseline\n",
    "\n",
    "Inspired by [Deep content-based music recommendation](https://papers.nips.cc/paper/5004-deep-content-based-music-recommendation.pdf) by van den Oord, Dieleman \n",
    "\n",
    "Instead of using MFCC, which would require extraction, we use the timbre features which are already provided by the EchoNest API. Code here is taken from/based on the source for the [Notebooks](https://github.com/dawenl/stochastic_PMF) for [Codebook-based Scalable Music Tagging with Poisson Matrix Factorization](http://dawenl.github.io/publications/LiangPE14-codebook.pdf) by Dawen Liang, John Paisley and Dan Ellis, in ISMIR 2014, with modifications."
   ]
  },
  {
   "cell_type": "code",
   "execution_count": 8,
   "metadata": {
    "pycharm": {
     "is_executing": false
    }
   },
   "outputs": [],
   "source": [
    "import json\n",
    "import math\n",
    "import numpy as np\n",
    "import pickle\n",
    "import os\n",
    "from constants import SubsetDataset\n",
    "from lib import hdf5_getters\n",
    "from lib.hartigan import HartiganOnline\n",
    "from lib.quantize import VectorQuantizer\n",
    "from matplotlib import pyplot as plt"
   ]
  },
  {
   "cell_type": "code",
   "execution_count": 2,
   "metadata": {
    "pycharm": {
     "is_executing": false
    }
   },
   "outputs": [],
   "source": [
    "def get_all_unique_tracks(ConstantClass, cache_dir=os.path.join(\".\", \"data\", \"cache\")):\n",
    "    tracks = set()\n",
    "    cache_path = os.path.join(cache_dir, \"tracks.json\")\n",
    "\n",
    "    if os.path.exists(cache_path):\n",
    "        with open(cache_path, \"r\") as f:\n",
    "            return json.load(f)\n",
    "\n",
    "    with open(ConstantClass.MSD_UNIQ_TRACKS_PATH, 'rb') as f:\n",
    "        for (count, line) in enumerate(f):\n",
    "            track_id, _, _, _ = line.decode(\"utf-8\").strip().split(\"<SEP>\")\n",
    "            tracks.add(track_id)\n",
    "            if count % 1000 == 0:\n",
    "                print(f\"{count} tracks processed\")\n",
    "\n",
    "    if not os.path.exists(cache_dir):\n",
    "        os.makedirs(cache_dir)\n",
    "    \n",
    "    tracks = list(tracks)\n",
    "    with open(cache_path, \"w\") as f:\n",
    "        json.dump(tracks, f)\n",
    "    \n",
    "    return tracks"
   ]
  },
  {
   "cell_type": "code",
   "execution_count": 3,
   "metadata": {
    "pycharm": {
     "is_executing": false,
     "name": "#%%\n"
    }
   },
   "outputs": [],
   "source": [
    "uniq_tracks = get_all_unique_tracks(SubsetDataset)"
   ]
  },
  {
   "cell_type": "markdown",
   "source": [
    "## Vector Quantization\n",
    "\n",
    "VQ allows us to get a feature representation."
   ],
   "metadata": {
    "collapsed": false
   }
  },
  {
   "cell_type": "code",
   "execution_count": 4,
   "outputs": [],
   "source": [
    "def data_generator(ConstantClass, tracks, shuffle=True, ext=\".h5\"):\n",
    "    if shuffle:\n",
    "        np.random.shuffle(list(tracks))\n",
    "\n",
    "    for track_id in tracks:\n",
    "        track_dir = os.path.join(ConstantClass.MSD_DATA_DIR, '/'.join(track_id[2:5]), track_id + ext)\n",
    "        h5 = hdf5_getters.open_h5_file_read(track_dir)\n",
    "        timbre = hdf5_getters.get_segments_timbre(h5)\n",
    "        h5.close()\n",
    "        if shuffle:\n",
    "            np.random.shuffle(timbre)\n",
    "        yield timbre\n",
    " \n",
    "\n",
    "def build_codewords(ConstantClass, tracks,  n_clusters=2, max_iter=10, random_state=None, cluster=None):\n",
    "    if type(random_state) is int:\n",
    "        np.random.seed(random_state)\n",
    "    elif random_state is not None:\n",
    "        np.random.set_state(random_state)\n",
    " \n",
    "    if cluster is None:\n",
    "        cluster = HartiganOnline(n_clusters)\n",
    "\n",
    "    for i in range(max_iter):\n",
    "        print(f\"Iteration {i+1}: Passing through the data...\")\n",
    "        for d in data_generator(ConstantClass, tracks):\n",
    "            cluster.partial_fit(d)\n",
    "\n",
    "    return cluster"
   ],
   "metadata": {
    "collapsed": false,
    "pycharm": {
     "name": "#%%\n",
     "is_executing": false
    }
   }
  },
  {
   "cell_type": "code",
   "execution_count": 5,
   "outputs": [],
   "source": [
    "def get_codewords(ConstantClass, tracks, n_clusters, max_iter, random_state, cache_dir=os.path.join(\".\", \"data\", \"cache\")):\n",
    "    cache_path = os.path.join(cache_dir, \"cluster.pkl\")\n",
    "    \n",
    "    if os.path.exists(cache_path):\n",
    "        with open(cache_path, \"rb\") as f:\n",
    "            cluster = pickle.load(f)\n",
    "            return cluster\n",
    "\n",
    "    cluster = build_codewords(ConstantClass, tracks, n_clusters, max_iter, random_state)\n",
    "    \n",
    "    with open(cache_path, \"wb\") as f:\n",
    "        pickle.dump(cluster, f)\n",
    "    \n",
    "    return cluster"
   ],
   "metadata": {
    "collapsed": false,
    "pycharm": {
     "name": "#%%\n",
     "is_executing": false
    }
   }
  },
  {
   "cell_type": "code",
   "execution_count": 6,
   "outputs": [
    {
     "name": "stdout",
     "text": [
      "Iteration 1: Passing through the data...\n",
      "Iteration 2: Passing through the data...\n",
      "Iteration 3: Passing through the data...\n"
     ],
     "output_type": "stream"
    },
    {
     "data": {
      "text/plain": "<matplotlib.colorbar.Colorbar at 0xa14a9fbe0>"
     },
     "metadata": {},
     "output_type": "execute_result",
     "execution_count": 6
    },
    {
     "data": {
      "text/plain": "<Figure size 1584x288 with 2 Axes>",
      "image/png": "[encoded data removed]"
     },
     "metadata": {
      "needs_background": "light"
     },
     "output_type": "display_data"
    }
   ],
   "source": [
    "K = 512\n",
    "codebook = get_codewords(SubsetDataset, uniq_tracks, n_clusters=K, max_iter=3, random_state=98765)\n",
    "plt.figure(figsize=(22, 4))\n",
    "plt.imshow(codebook.cluster_centers_.T, cmap=\"PuOr_r\", aspect=\"auto\", interpolation=\"nearest\")\n",
    "plt.colorbar()"
   ],
   "metadata": {
    "collapsed": false,
    "pycharm": {
     "name": "#%%\n",
     "is_executing": false
    }
   }
  },
  {
   "cell_type": "code",
   "execution_count": 10,
   "outputs": [],
   "source": [
    "vq = VectorQuantizer(clusterer=codebook)\n",
    "vq.center_norms_ = 0.5 * (vq.clusterer.cluster_centers_ ** 2).sum(axis=1)\n",
    "vq.components_ = vq.clusterer.cluster_centers_\n",
    "\n",
    "def quantize_and_save(vq, K, msd_data_root, track_id):\n",
    "    track_dir = os.path.join(msd_data_root, '/'.join(track_id[2:5]), track_id + \".h5\")\n",
    "    h5 = hdf5_getters.open_h5_file_read(track_dir)\n",
    "    timbre = hdf5_getters.get_segments_timbre(h5)\n",
    "    h5.close()\n",
    "    \n",
    "    hist_dir = os.path.join(\"data\", \"vq_hist\", \"/\".join(track_id[2:5]))\n",
    "    if not os.path.exists(hist_dir):\n",
    "        os.makedirs(hist_dir)\n",
    "    \n",
    "    vq_path = os.path.join(hist_dir, track_id + '_K%d' % K)\n",
    "    if os.path.exists(os.path.join(vq_path) + '.npy'):\n",
    "        return\n",
    "\n",
    "    vq_hist = vq.transform(timbre).sum(axis=0).astype(np.int16)\n",
    "    np.save(os.path.join(hist_dir, track_id + '_K%d' % K), vq_hist)\n",
    "\n",
    "for track_id in uniq_tracks:\n",
    "    quantize_and_save(vq, K, SubsetDataset.MSD_DATA_DIR, track_id) "
   ],
   "metadata": {
    "collapsed": false,
    "pycharm": {
     "name": "#%%\n",
     "is_executing": false
    }
   }
  }
 ]
}