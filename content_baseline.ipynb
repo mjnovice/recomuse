{
 "cells": [
  {
   "cell_type": "markdown",
   "metadata": {},
   "source": [
    "# Content-based Recommendation Baseline\n",
    "\n",
    "Inspired by [Deep content-based music recommendation](https://papers.nips.cc/paper/5004-deep-content-based-music-recommendation.pdf) by van den Oord, Dieleman \n",
    "\n",
    "Instead of using MFCC, which would require getting the music files, we use the timbre features which are already provided by the EchoNest API. Code here is taken from/based on the source for the [Notebooks](https://github.com/dawenl/stochastic_PMF) for [Codebook-based Scalable Music Tagging with Poisson Matrix Factorization](http://dawenl.github.io/publications/LiangPE14-codebook.pdf) by Dawen Liang, John Paisley and Dan Ellis, in ISMIR 2014, with slight modifications."
   ]
  },
  {
   "cell_type": "markdown",
   "metadata": {
    "pycharm": {
     "name": "#%% md\n"
    }
   },
   "source": [
    "## Vector Quantized Representations of Segments"
   ]
  },
  {
   "cell_type": "code",
   "execution_count": 1,
   "metadata": {
    "pycharm": {
     "is_executing": false
    }
   },
   "outputs": [],
   "source": [
    "import json\n",
    "import numpy as np\n",
    "import pickle\n",
    "import os\n",
    "from constants import SubsetDataset, TasteProfileDataset, MSDChallengeDataset\n",
    "from lib import hdf5_getters\n",
    "from lib.hartigan import HartiganOnline\n",
    "from lib.quantize import VectorQuantizer\n",
    "from matplotlib import pyplot as plt"
   ]
  },
  {
   "cell_type": "code",
   "execution_count": 2,
   "metadata": {
    "pycharm": {
     "is_executing": false
    }
   },
   "outputs": [],
   "source": [
    "from collections import defaultdict\n",
    "\n",
    "def get_all_unique_tracks(ConstantClass, cache_dir=os.path.join(\".\", \"data\", \"cache\")):\n",
    "    tracks = set()\n",
    "    track_to_song_mappings = defaultdict(list)\n",
    "    song_to_track_mappings = {}\n",
    "    track_cache_path = os.path.join(cache_dir, \"tracks.json\")\n",
    "    track_to_song_cache_path = os.path.join(cache_dir, \"track_to_song.json\")\n",
    "    song_to_track_cache_path = os.path.join(cache_dir, \"song_to_track.json\")\n",
    "\n",
    "    if os.path.exists(track_cache_path) and os.path.exists(track_to_song_cache_path) and os.path.exists(song_to_track_cache_path):\n",
    "        track_cache_f = open(track_cache_path, \"r\")\n",
    "        track_to_song_cache_f = open(track_to_song_cache_path, \"r\")\n",
    "        song_to_track_cache_f = open(song_to_track_cache_path, \"r\")\n",
    "        \n",
    "        tracks = json.load(track_cache_f)\n",
    "        track_to_song_mappings = json.load(track_to_song_cache_f)\n",
    "        song_to_track_mappings = json.load(song_to_track_cache_f)\n",
    "        \n",
    "        track_cache_f.close()\n",
    "        track_to_song_cache_f.close()\n",
    "        song_to_track_cache_f.close()\n",
    "        \n",
    "        return tracks, track_to_song_mappings, song_to_track_mappings\n",
    "\n",
    "    with open(ConstantClass.MSD_UNIQ_TRACKS_PATH, 'rb') as f:\n",
    "        for (count, line) in enumerate(f):\n",
    "            track_id, _, _, _ = line.decode(\"utf-8\").strip().split(\"<SEP>\")\n",
    "            tracks.add(track_id)\n",
    "            \n",
    "            track_dir = os.path.join(ConstantClass.MSD_DATA_DIR, '/'.join(track_id[2:5]), f'{track_id}.h5')\n",
    "            h5 = hdf5_getters.open_h5_file_read(track_dir)\n",
    "            for i in range(hdf5_getters.get_num_songs(h5)):\n",
    "                song_id = hdf5_getters.get_song_id(h5, i).decode('utf-8')\n",
    "                track_to_song_mappings[track_id].append(song_id)\n",
    "                song_to_track_mappings[song_id] = track_id\n",
    "            h5.close()\n",
    "            \n",
    "            if count % 1000 == 0:\n",
    "                print(f\"{count} tracks processed\")\n",
    "\n",
    "    if not os.path.exists(cache_dir):\n",
    "        os.makedirs(cache_dir)\n",
    "    \n",
    "    tracks = list(tracks)\n",
    "    \n",
    "    with open(track_cache_path, \"w\") as f:\n",
    "        json.dump(tracks, f)\n",
    "    \n",
    "    with open(track_to_song_cache_path, \"w\") as f:\n",
    "        json.dump(track_to_song_mappings, f)\n",
    "    \n",
    "    with open(song_to_track_cache_path, \"w\") as f:\n",
    "        json.dump(song_to_track_mappings, f)\n",
    "    \n",
    "    return tracks, track_to_song_mappings, song_to_track_mappings"
   ]
  },
  {
   "cell_type": "code",
   "execution_count": 3,
   "metadata": {
    "pycharm": {
     "is_executing": false,
     "name": "#%%\n"
    }
   },
   "outputs": [],
   "source": [
    "uniq_tracks, track_id_to_song_id, song_id_to_track_id = get_all_unique_tracks(SubsetDataset)"
   ]
  },
  {
   "cell_type": "markdown",
   "metadata": {},
   "source": [
    "## Vector Quantization\n",
    "\n",
    "VQ allows us to get a feature representation."
   ]
  },
  {
   "cell_type": "code",
   "execution_count": 4,
   "metadata": {
    "pycharm": {
     "is_executing": false,
     "name": "#%%\n"
    }
   },
   "outputs": [],
   "source": [
    "def data_generator(ConstantClass, tracks, shuffle=True, ext=\".h5\"):\n",
    "    if shuffle:\n",
    "        np.random.shuffle(list(tracks))\n",
    "\n",
    "    for track_id in tracks:\n",
    "        track_dir = os.path.join(ConstantClass.MSD_DATA_DIR, '/'.join(track_id[2:5]), track_id + ext)\n",
    "        h5 = hdf5_getters.open_h5_file_read(track_dir)\n",
    "        for i in range(hdf5_getters.get_num_songs(h5)):\n",
    "            timbre = hdf5_getters.get_segments_timbre(h5, i)\n",
    "            if shuffle:\n",
    "                np.random.shuffle(timbre)\n",
    "            yield timbre\n",
    "        h5.close()\n",
    "\n",
    "\n",
    "def build_codewords(ConstantClass, tracks, n_clusters=2, max_iter=10, random_state=None, cluster=None):\n",
    "    if type(random_state) is int:\n",
    "        np.random.seed(random_state)\n",
    "    elif random_state is not None:\n",
    "        np.random.set_state(random_state)\n",
    " \n",
    "    if cluster is None:\n",
    "        cluster = HartiganOnline(n_clusters)\n",
    "\n",
    "    for i in range(max_iter):\n",
    "        print(f\"Iteration {i+1}: Passing through the data...\")\n",
    "        for d in data_generator(ConstantClass, tracks):\n",
    "            cluster.partial_fit(d)\n",
    "\n",
    "    return cluster"
   ]
  },
  {
   "cell_type": "code",
   "execution_count": 5,
   "metadata": {
    "pycharm": {
     "is_executing": false,
     "name": "#%%\n"
    }
   },
   "outputs": [],
   "source": [
    "def get_codewords(ConstantClass, tracks, n_clusters, max_iter, random_state, cache_dir=os.path.join(\".\", \"data\", \"cache\")):\n",
    "    cache_path = os.path.join(cache_dir, \"cluster.pkl\")\n",
    "    \n",
    "    if os.path.exists(cache_path):\n",
    "        with open(cache_path, \"rb\") as f:\n",
    "            cluster = pickle.load(f)\n",
    "            return cluster\n",
    "\n",
    "    cluster = build_codewords(ConstantClass, tracks, n_clusters, max_iter, random_state)\n",
    "    \n",
    "    with open(cache_path, \"wb\") as f:\n",
    "        pickle.dump(cluster, f)\n",
    "    \n",
    "    return cluster"
   ]
  },
  {
   "cell_type": "code",
   "execution_count": 6,
   "metadata": {
    "pycharm": {
     "is_executing": false,
     "name": "#%%\n"
    }
   },
   "outputs": [
    {
     "data": {
      "text/plain": [
       "<matplotlib.colorbar.Colorbar at 0x1a25bca7b8>"
      ]
     },
     "execution_count": 6,
     "metadata": {},
     "output_type": "execute_result"
    },
    {
     "data": {
      "image/png": "[encoded data removed]",
      "text/plain": [
       "<Figure size 1584x288 with 2 Axes>"
      ]
     },
     "metadata": {
      "needs_background": "light"
     },
     "output_type": "display_data"
    }
   ],
   "source": [
    "K = 512\n",
    "codebook = get_codewords(SubsetDataset, uniq_tracks, n_clusters=K, max_iter=3, random_state=98765)\n",
    "plt.figure(figsize=(22, 4))\n",
    "plt.imshow(codebook.cluster_centers_.T, cmap=\"PuOr_r\", aspect=\"auto\", interpolation=\"nearest\")\n",
    "plt.colorbar()"
   ]
  },
  {
   "cell_type": "markdown",
   "metadata": {
    "pycharm": {
     "name": "#%% md\n"
    }
   },
   "source": [
    "### Build a bag-of-word representation of each song\n",
    "\n",
    "Each song, $s_i$, is a $K$-dimensional vector, where element $j$ menas the number of times the $j$th centroid has been matched. "
   ]
  },
  {
   "cell_type": "code",
   "execution_count": 7,
   "metadata": {},
   "outputs": [],
   "source": [
    "def build_idx_to_song_id_mapping():\n",
    "    idx_to_song_id_mapping = {}\n",
    "    song_id_to_idx_mapping = {}\n",
    "    running_idx = 0\n",
    "    for track_i, track_id in enumerate(uniq_tracks):\n",
    "        for song_id in track_id_to_song_id[track_id]:\n",
    "            idx_to_song_id_mapping[running_idx] = song_id\n",
    "            song_id_to_idx_mapping[song_id] = running_idx\n",
    "            running_idx += 1\n",
    "    return idx_to_song_id_mapping, song_id_to_idx_mapping\n",
    "\n",
    "idx_to_song_id_mapping, song_id_to_idx_mapping = build_idx_to_song_id_mapping()"
   ]
  },
  {
   "cell_type": "code",
   "execution_count": 8,
   "metadata": {
    "pycharm": {
     "is_executing": false,
     "name": "#%%\n"
    }
   },
   "outputs": [],
   "source": [
    "vq = VectorQuantizer(clusterer=codebook)\n",
    "vq.center_norms_ = 0.5 * (vq.clusterer.cluster_centers_ ** 2).sum(axis=1)\n",
    "vq.components_ = vq.clusterer.cluster_centers_\n",
    "\n",
    "song_bow = np.zeros((len(song_id_to_idx_mapping), K))\n",
    "\n",
    "def quantize_and_save(vq, K, msd_data_root, track_id, song_id, song_idx=0):\n",
    "    hist_dir = os.path.join(\"data\", \"vq_hist\", \"/\".join(track_id[2:5]))\n",
    "    if not os.path.exists(hist_dir):\n",
    "        os.makedirs(hist_dir)\n",
    "\n",
    "    vq_path = os.path.join(hist_dir, track_id + '_' + song_id + '_K%d' % K)\n",
    "    if os.path.exists(os.path.join(vq_path) + '.npy'):\n",
    "        return np.load(os.path.join(vq_path) + '.npy')\n",
    "    \n",
    "    track_dir = os.path.join(msd_data_root, '/'.join(track_id[2:5]), track_id + '.h5')\n",
    "    h5 = hdf5_getters.open_h5_file_read(track_dir)\n",
    "    timbre = hdf5_getters.get_segments_timbre(h5, song_idx)\n",
    "    h5.close()\n",
    "\n",
    "    vq_hist = vq.transform(timbre).sum(axis=0).astype(np.int16)\n",
    "    np.save(os.path.join(hist_dir, track_id + '_' + song_id + '_K%d' % K), vq_hist)\n",
    "    return vq_hist\n",
    "\n",
    "\n",
    "for track_id in uniq_tracks:\n",
    "    for song_idx, song_id in enumerate(track_id_to_song_id[track_id]):\n",
    "        song_bow[song_id_to_idx_mapping[song_id]] = quantize_and_save(vq, K, SubsetDataset.MSD_DATA_DIR, track_id, song_id, song_idx)"
   ]
  },
  {
   "cell_type": "code",
   "execution_count": 9,
   "metadata": {},
   "outputs": [
    {
     "data": {
      "text/plain": [
       "10000"
      ]
     },
     "execution_count": 9,
     "metadata": {},
     "output_type": "execute_result"
    }
   ],
   "source": [
    "len(song_id_to_idx_mapping)"
   ]
  },
  {
   "cell_type": "markdown",
   "metadata": {
    "pycharm": {
     "name": "#%% md\n"
    }
   },
   "source": [
    "## Get Latent Factors for Users\n",
    "\n",
    "Source: [Deep Content-based Music Recommendation](https://papers.nips.cc/paper/5004-deep-content-based-music-recommendation.pdf)"
   ]
  },
  {
   "cell_type": "markdown",
   "metadata": {
    "pycharm": {
     "name": "#%% md\n"
    }
   },
   "source": [
    "### Build user-item matrix"
   ]
  },
  {
   "cell_type": "code",
   "execution_count": 10,
   "metadata": {
    "pycharm": {
     "is_executing": false,
     "name": "#%%\n"
    }
   },
   "outputs": [],
   "source": [
    "def get_uniq_users(profile_path, cache_dir=os.path.join('.', 'data', 'cache')):\n",
    "    users = set()\n",
    "    profile_name = os.path.basename(profile_path).split('.')\n",
    "    if len(profile_name) > 1:\n",
    "        profile_name = profile_name[:-1]\n",
    "    cache_path = os.path.join(cache_dir, f'users-{profile_name}.json')\n",
    "\n",
    "    if os.path.exists(cache_path):\n",
    "        with open(cache_path, 'r') as f:\n",
    "            return json.load(f)\n",
    "\n",
    "    with open(profile_path, 'r') as f:\n",
    "        for (count, line) in enumerate(f):\n",
    "            user_id = line.strip().split('\\t')[0]\n",
    "            users.add(user_id)\n",
    "            if count % 100000 == 0:\n",
    "                print(f'{count} listening history processed')\n",
    "\n",
    "    if not os.path.exists(cache_dir):\n",
    "        os.makedirs(cache_dir)\n",
    "    \n",
    "    users = list(users)\n",
    "    with open(cache_path, 'w') as f:\n",
    "        json.dump(users, f)\n",
    "    \n",
    "    return users"
   ]
  },
  {
   "cell_type": "code",
   "execution_count": 11,
   "metadata": {
    "pycharm": {
     "is_executing": false,
     "name": "#%%\n"
    }
   },
   "outputs": [],
   "source": [
    "uniq_users = get_uniq_users(TasteProfileDataset.TPD_TRAIN_PATH)"
   ]
  },
  {
   "cell_type": "code",
   "execution_count": 12,
   "metadata": {
    "pycharm": {
     "is_executing": false,
     "name": "#%%\n"
    }
   },
   "outputs": [],
   "source": [
    "uniq_user_to_idx = {user_id: i for i, user_id in enumerate(uniq_users)}\n",
    "idx_to_uniq_user = {i: user_id for i, user_id in enumerate(uniq_users)}"
   ]
  },
  {
   "cell_type": "code",
   "execution_count": 13,
   "metadata": {
    "pycharm": {
     "is_executing": false,
     "name": "#%%\n"
    }
   },
   "outputs": [],
   "source": [
    "uniq_track_to_idx = {track_id: i for i, track_id in enumerate(uniq_tracks)}\n",
    "idx_to_uniq_track = {i: track_id for i, track_id in enumerate(uniq_tracks)}"
   ]
  },
  {
   "cell_type": "code",
   "execution_count": 14,
   "metadata": {},
   "outputs": [
    {
     "name": "stdout",
     "output_type": "stream",
     "text": [
      "Total Songs: 3688\n"
     ]
    }
   ],
   "source": [
    "import importlib\n",
    "from lib import song_subset\n",
    "importlib.reload(song_subset)\n",
    "\n",
    "train_tpd = TasteProfileDataset.TPD_TRAIN_PATH\n",
    "val_msc_visible = MSDChallengeDataset.MSDC_EVAL_VISIBLE_PATH\n",
    "val_msc_hidden = MSDChallengeDataset.MSDC_EVAL_HIDDEN_PATH\n",
    "test_msc_visible = MSDChallengeDataset.MSDC_TEST_VISIBLE_PATH\n",
    "test_msc_hidden = MSDChallengeDataset.MSDC_TEST_HIDDEN_PATH\n",
    "\n",
    "valid_songs = song_subset.get_trainable_songs([train_tpd, val_msc_visible, val_msc_hidden, test_msc_visible, test_msc_hidden])\n",
    "valid_songs &= set(song_id_to_track_id.keys())\n",
    "\n",
    "print('Total Songs:', len(valid_songs))"
   ]
  },
  {
   "cell_type": "code",
   "execution_count": 16,
   "metadata": {},
   "outputs": [
    {
     "data": {
      "text/plain": [
       "0       SOFXNQP12AB0184F1A\n",
       "1       SOVWTMN12A6D4F8ACF\n",
       "2       SONLXKV12A8C13CD49\n",
       "3       SOGAALD12A6D4F58F2\n",
       "4       SORSQRR12A8C13A20D\n",
       "               ...        \n",
       "3683    SOOIPTF12A8C139366\n",
       "3684    SOUHVMV12A58A7C4D9\n",
       "3685    SODWQCV12A6701F288\n",
       "3686    SOADDVU12A8AE47512\n",
       "3687    SODKZHX12AB0180CC7\n",
       "Length: 3688, dtype: category\n",
       "Categories (3688, object): [SOAAAQN12AB01856D3, SOAAEHR12A6D4FB060, SOAAFUV12AB018831D, SOAANKE12A8C13CF5C, ..., SOZYZDZ12AB01873CA, SOZZPYH12AB0187578, SOZZQBH12A6D4FAFD8, SOZZVMW12AB0183B52]"
      ]
     },
     "execution_count": 16,
     "metadata": {},
     "output_type": "execute_result"
    }
   ],
   "source": [
    "import pandas as pd\n",
    "\n",
    "valid_song_list = list(valid_songs)\n",
    "valid_song_list_i_to_song = {v: i for i, v in enumerate(valid_song_list)}\n",
    "song_categories = pd.Series(valid_song_list, dtype=\"category\")\n",
    "song_categories"
   ]
  },
  {
   "cell_type": "code",
   "execution_count": 17,
   "metadata": {},
   "outputs": [],
   "source": [
    "def get_user_play_array(line, transform_cui=lambda x: x if x > 0 else 0):\n",
    "    user_id, song_id, play_count = line.strip().split(\"\\t\")\n",
    "    if song_id not in song_id_to_track_id:\n",
    "        return None\n",
    "\n",
    "    return [user_id, song_id, transform_cui(int(play_count))]"
   ]
  },
  {
   "cell_type": "code",
   "execution_count": 18,
   "metadata": {
    "pycharm": {
     "is_executing": true,
     "name": "#%%\n"
    }
   },
   "outputs": [],
   "source": [
    "import pandas as pd\n",
    "from scipy.sparse import coo_matrix\n",
    "\n",
    "\n",
    "def build_user_item_matrix(profile_path, song_categories=None, song_to_idx_map=None, transform_cui=lambda x: x if x > 0 else 0):\n",
    "    user_to_item_plays = []\n",
    "    uniq_users = set()\n",
    "    \n",
    "    successful, not_in_song_mapping, not_in_track_mapping = 0, 0, 0\n",
    "    tracks_added = set()\n",
    "    with open(profile_path, 'r') as f:\n",
    "        for (count, line) in enumerate(f):\n",
    "            if count % 100000 == 0:\n",
    "                print(f\"{count} listening history processed\")\n",
    "                \n",
    "            user_play = get_user_play_array(line, transform_cui)\n",
    "            \n",
    "            if user_play is None:\n",
    "                continue\n",
    "                \n",
    "            uniq_users.add(user_play[0])\n",
    "            user_to_item_plays.append(user_play)\n",
    "            \n",
    "            successful += 1\n",
    "    \n",
    "    print(f\"Successful: {successful}\")\n",
    "    print(f\"Not in song mapping: {not_in_song_mapping}\")\n",
    "    print(f\"Not in track mapping: {not_in_track_mapping}\")\n",
    "    \n",
    "    user_to_item_plays = pd.DataFrame(user_to_item_plays, columns=['user_id', 'track_id', 'plays'])\n",
    "    user_to_item_plays['user_id'] = user_to_item_plays['user_id'].astype('category')\n",
    "    user_to_item_plays['track_id'] = user_to_item_plays['track_id'].astype('category')\n",
    "    \n",
    "    if song_categories is not None and song_to_idx_map is not None:\n",
    "        user_to_item_plays['track_id'].cat = song_categories\n",
    "        user_to_item_plays['track_id'] = user_to_item_plays['track_id'].map(song_to_idx_map)\n",
    "\n",
    "#         user_item = coo_matrix((user_to_item_plays['plays'], (user_to_item_plays['user_id'].cat.codes, user_to_item_plays['track_id'])), shape=(user_to_item_plays['user_id'].value_counts().count(), len(song_categories)))\n",
    "        user_item = coo_matrix((user_to_item_plays['plays'], (user_to_item_plays['user_id'].cat.codes, user_to_item_plays['track_id'])), shape=(len(uniq_users), len(song_categories)))\n",
    "    else:\n",
    "        user_item = coo_matrix((user_to_item_plays['plays'], (user_to_item_plays['user_id'].cat.codes, user_to_item_plays['track_id'].cat.codes)))\n",
    "    \n",
    "    return user_item.tocsr(), user_to_item_plays['user_id'].cat.categories, user_to_item_plays['track_id'].cat.categories"
   ]
  },
  {
   "cell_type": "code",
   "execution_count": 19,
   "metadata": {},
   "outputs": [
    {
     "name": "stdout",
     "output_type": "stream",
     "text": [
      "0 listening history processed\n",
      "100000 listening history processed\n",
      "200000 listening history processed\n",
      "300000 listening history processed\n",
      "400000 listening history processed\n",
      "500000 listening history processed\n",
      "600000 listening history processed\n",
      "700000 listening history processed\n",
      "800000 listening history processed\n",
      "900000 listening history processed\n",
      "1000000 listening history processed\n",
      "1100000 listening history processed\n",
      "1200000 listening history processed\n",
      "1300000 listening history processed\n",
      "1400000 listening history processed\n",
      "1500000 listening history processed\n",
      "1600000 listening history processed\n",
      "1700000 listening history processed\n",
      "1800000 listening history processed\n",
      "1900000 listening history processed\n",
      "2000000 listening history processed\n",
      "2100000 listening history processed\n",
      "2200000 listening history processed\n",
      "2300000 listening history processed\n",
      "2400000 listening history processed\n",
      "2500000 listening history processed\n",
      "2600000 listening history processed\n",
      "2700000 listening history processed\n",
      "2800000 listening history processed\n",
      "2900000 listening history processed\n",
      "3000000 listening history processed\n",
      "3100000 listening history processed\n",
      "3200000 listening history processed\n",
      "3300000 listening history processed\n",
      "3400000 listening history processed\n",
      "3500000 listening history processed\n",
      "3600000 listening history processed\n",
      "3700000 listening history processed\n",
      "3800000 listening history processed\n",
      "3900000 listening history processed\n",
      "4000000 listening history processed\n",
      "4100000 listening history processed\n",
      "4200000 listening history processed\n",
      "4300000 listening history processed\n",
      "4400000 listening history processed\n",
      "4500000 listening history processed\n",
      "4600000 listening history processed\n",
      "4700000 listening history processed\n",
      "4800000 listening history processed\n",
      "4900000 listening history processed\n",
      "5000000 listening history processed\n",
      "5100000 listening history processed\n",
      "5200000 listening history processed\n",
      "5300000 listening history processed\n",
      "5400000 listening history processed\n",
      "5500000 listening history processed\n",
      "5600000 listening history processed\n",
      "5700000 listening history processed\n",
      "5800000 listening history processed\n",
      "5900000 listening history processed\n",
      "6000000 listening history processed\n",
      "6100000 listening history processed\n",
      "6200000 listening history processed\n",
      "6300000 listening history processed\n",
      "6400000 listening history processed\n",
      "6500000 listening history processed\n",
      "6600000 listening history processed\n",
      "6700000 listening history processed\n",
      "6800000 listening history processed\n",
      "6900000 listening history processed\n",
      "7000000 listening history processed\n",
      "7100000 listening history processed\n",
      "7200000 listening history processed\n",
      "7300000 listening history processed\n",
      "7400000 listening history processed\n",
      "7500000 listening history processed\n",
      "7600000 listening history processed\n",
      "7700000 listening history processed\n",
      "7800000 listening history processed\n",
      "7900000 listening history processed\n",
      "8000000 listening history processed\n",
      "8100000 listening history processed\n",
      "8200000 listening history processed\n",
      "8300000 listening history processed\n",
      "8400000 listening history processed\n",
      "8500000 listening history processed\n",
      "8600000 listening history processed\n",
      "8700000 listening history processed\n",
      "8800000 listening history processed\n",
      "8900000 listening history processed\n",
      "9000000 listening history processed\n",
      "9100000 listening history processed\n",
      "9200000 listening history processed\n",
      "9300000 listening history processed\n",
      "9400000 listening history processed\n",
      "9500000 listening history processed\n",
      "9600000 listening history processed\n",
      "9700000 listening history processed\n",
      "9800000 listening history processed\n",
      "9900000 listening history processed\n",
      "10000000 listening history processed\n",
      "10100000 listening history processed\n",
      "10200000 listening history processed\n",
      "10300000 listening history processed\n",
      "10400000 listening history processed\n",
      "10500000 listening history processed\n",
      "10600000 listening history processed\n",
      "10700000 listening history processed\n",
      "10800000 listening history processed\n",
      "10900000 listening history processed\n",
      "11000000 listening history processed\n",
      "11100000 listening history processed\n",
      "11200000 listening history processed\n",
      "11300000 listening history processed\n",
      "11400000 listening history processed\n",
      "11500000 listening history processed\n",
      "11600000 listening history processed\n",
      "11700000 listening history processed\n",
      "11800000 listening history processed\n",
      "11900000 listening history processed\n",
      "12000000 listening history processed\n",
      "12100000 listening history processed\n",
      "12200000 listening history processed\n",
      "12300000 listening history processed\n",
      "12400000 listening history processed\n",
      "12500000 listening history processed\n",
      "12600000 listening history processed\n",
      "12700000 listening history processed\n",
      "12800000 listening history processed\n",
      "12900000 listening history processed\n",
      "13000000 listening history processed\n",
      "13100000 listening history processed\n",
      "13200000 listening history processed\n",
      "13300000 listening history processed\n",
      "13400000 listening history processed\n",
      "13500000 listening history processed\n",
      "13600000 listening history processed\n",
      "13700000 listening history processed\n",
      "13800000 listening history processed\n",
      "13900000 listening history processed\n",
      "14000000 listening history processed\n",
      "14100000 listening history processed\n",
      "14200000 listening history processed\n",
      "14300000 listening history processed\n",
      "14400000 listening history processed\n",
      "14500000 listening history processed\n",
      "14600000 listening history processed\n",
      "14700000 listening history processed\n",
      "14800000 listening history processed\n",
      "14900000 listening history processed\n",
      "15000000 listening history processed\n",
      "15100000 listening history processed\n",
      "15200000 listening history processed\n",
      "15300000 listening history processed\n",
      "15400000 listening history processed\n",
      "15500000 listening history processed\n",
      "15600000 listening history processed\n",
      "15700000 listening history processed\n",
      "15800000 listening history processed\n",
      "15900000 listening history processed\n",
      "16000000 listening history processed\n",
      "16100000 listening history processed\n",
      "16200000 listening history processed\n",
      "16300000 listening history processed\n",
      "16400000 listening history processed\n",
      "16500000 listening history processed\n",
      "16600000 listening history processed\n",
      "16700000 listening history processed\n",
      "16800000 listening history processed\n",
      "16900000 listening history processed\n",
      "17000000 listening history processed\n",
      "17100000 listening history processed\n",
      "17200000 listening history processed\n",
      "17300000 listening history processed\n",
      "17400000 listening history processed\n",
      "17500000 listening history processed\n",
      "17600000 listening history processed\n",
      "17700000 listening history processed\n",
      "17800000 listening history processed\n",
      "17900000 listening history processed\n",
      "18000000 listening history processed\n",
      "18100000 listening history processed\n",
      "18200000 listening history processed\n",
      "18300000 listening history processed\n",
      "18400000 listening history processed\n",
      "18500000 listening history processed\n",
      "18600000 listening history processed\n",
      "18700000 listening history processed\n",
      "18800000 listening history processed\n",
      "18900000 listening history processed\n",
      "19000000 listening history processed\n",
      "19100000 listening history processed\n",
      "19200000 listening history processed\n",
      "19300000 listening history processed\n",
      "19400000 listening history processed\n",
      "19500000 listening history processed\n",
      "19600000 listening history processed\n",
      "19700000 listening history processed\n",
      "19800000 listening history processed\n",
      "19900000 listening history processed\n",
      "20000000 listening history processed\n",
      "20100000 listening history processed\n",
      "20200000 listening history processed\n",
      "20300000 listening history processed\n",
      "20400000 listening history processed\n",
      "20500000 listening history processed\n",
      "20600000 listening history processed\n",
      "20700000 listening history processed\n",
      "20800000 listening history processed\n",
      "20900000 listening history processed\n",
      "21000000 listening history processed\n",
      "21100000 listening history processed\n",
      "21200000 listening history processed\n",
      "21300000 listening history processed\n",
      "21400000 listening history processed\n",
      "21500000 listening history processed\n",
      "21600000 listening history processed\n",
      "21700000 listening history processed\n",
      "21800000 listening history processed\n",
      "21900000 listening history processed\n",
      "22000000 listening history processed\n",
      "22100000 listening history processed\n",
      "22200000 listening history processed\n",
      "22300000 listening history processed\n",
      "22400000 listening history processed\n",
      "22500000 listening history processed\n"
     ]
    },
    {
     "name": "stdout",
     "output_type": "stream",
     "text": [
      "22600000 listening history processed\n",
      "22700000 listening history processed\n",
      "22800000 listening history processed\n",
      "22900000 listening history processed\n",
      "23000000 listening history processed\n",
      "23100000 listening history processed\n",
      "23200000 listening history processed\n",
      "23300000 listening history processed\n",
      "23400000 listening history processed\n",
      "23500000 listening history processed\n",
      "23600000 listening history processed\n",
      "23700000 listening history processed\n",
      "23800000 listening history processed\n",
      "23900000 listening history processed\n",
      "24000000 listening history processed\n",
      "24100000 listening history processed\n",
      "24200000 listening history processed\n",
      "24300000 listening history processed\n",
      "24400000 listening history processed\n",
      "24500000 listening history processed\n",
      "24600000 listening history processed\n",
      "24700000 listening history processed\n",
      "24800000 listening history processed\n",
      "24900000 listening history processed\n",
      "25000000 listening history processed\n",
      "25100000 listening history processed\n",
      "25200000 listening history processed\n",
      "25300000 listening history processed\n",
      "25400000 listening history processed\n",
      "25500000 listening history processed\n",
      "25600000 listening history processed\n",
      "25700000 listening history processed\n",
      "25800000 listening history processed\n",
      "25900000 listening history processed\n",
      "26000000 listening history processed\n",
      "26100000 listening history processed\n",
      "26200000 listening history processed\n",
      "26300000 listening history processed\n",
      "26400000 listening history processed\n",
      "26500000 listening history processed\n",
      "26600000 listening history processed\n",
      "26700000 listening history processed\n",
      "26800000 listening history processed\n",
      "26900000 listening history processed\n",
      "27000000 listening history processed\n",
      "27100000 listening history processed\n",
      "27200000 listening history processed\n",
      "27300000 listening history processed\n",
      "27400000 listening history processed\n",
      "27500000 listening history processed\n",
      "27600000 listening history processed\n",
      "27700000 listening history processed\n",
      "27800000 listening history processed\n",
      "27900000 listening history processed\n",
      "28000000 listening history processed\n",
      "28100000 listening history processed\n",
      "28200000 listening history processed\n",
      "28300000 listening history processed\n",
      "28400000 listening history processed\n",
      "28500000 listening history processed\n",
      "28600000 listening history processed\n",
      "28700000 listening history processed\n",
      "28800000 listening history processed\n",
      "28900000 listening history processed\n",
      "29000000 listening history processed\n",
      "29100000 listening history processed\n",
      "29200000 listening history processed\n",
      "29300000 listening history processed\n",
      "29400000 listening history processed\n",
      "29500000 listening history processed\n",
      "29600000 listening history processed\n",
      "29700000 listening history processed\n",
      "29800000 listening history processed\n",
      "29900000 listening history processed\n",
      "30000000 listening history processed\n",
      "30100000 listening history processed\n",
      "30200000 listening history processed\n",
      "30300000 listening history processed\n",
      "30400000 listening history processed\n",
      "30500000 listening history processed\n",
      "30600000 listening history processed\n",
      "30700000 listening history processed\n",
      "30800000 listening history processed\n",
      "30900000 listening history processed\n",
      "31000000 listening history processed\n",
      "31100000 listening history processed\n",
      "31200000 listening history processed\n",
      "31300000 listening history processed\n",
      "31400000 listening history processed\n",
      "31500000 listening history processed\n",
      "31600000 listening history processed\n",
      "31700000 listening history processed\n",
      "31800000 listening history processed\n",
      "31900000 listening history processed\n",
      "32000000 listening history processed\n",
      "32100000 listening history processed\n",
      "32200000 listening history processed\n",
      "32300000 listening history processed\n",
      "32400000 listening history processed\n",
      "32500000 listening history processed\n",
      "32600000 listening history processed\n",
      "32700000 listening history processed\n",
      "32800000 listening history processed\n",
      "32900000 listening history processed\n",
      "33000000 listening history processed\n",
      "33100000 listening history processed\n",
      "33200000 listening history processed\n",
      "33300000 listening history processed\n",
      "33400000 listening history processed\n",
      "33500000 listening history processed\n",
      "33600000 listening history processed\n",
      "33700000 listening history processed\n",
      "33800000 listening history processed\n",
      "33900000 listening history processed\n",
      "34000000 listening history processed\n",
      "34100000 listening history processed\n",
      "34200000 listening history processed\n",
      "34300000 listening history processed\n",
      "34400000 listening history processed\n",
      "34500000 listening history processed\n",
      "34600000 listening history processed\n",
      "34700000 listening history processed\n",
      "34800000 listening history processed\n",
      "34900000 listening history processed\n",
      "35000000 listening history processed\n",
      "35100000 listening history processed\n",
      "35200000 listening history processed\n",
      "35300000 listening history processed\n",
      "35400000 listening history processed\n",
      "35500000 listening history processed\n",
      "35600000 listening history processed\n",
      "35700000 listening history processed\n",
      "35800000 listening history processed\n",
      "35900000 listening history processed\n",
      "36000000 listening history processed\n",
      "36100000 listening history processed\n",
      "36200000 listening history processed\n",
      "36300000 listening history processed\n",
      "36400000 listening history processed\n",
      "36500000 listening history processed\n",
      "36600000 listening history processed\n",
      "36700000 listening history processed\n",
      "36800000 listening history processed\n",
      "36900000 listening history processed\n",
      "37000000 listening history processed\n",
      "37100000 listening history processed\n",
      "37200000 listening history processed\n",
      "37300000 listening history processed\n",
      "37400000 listening history processed\n",
      "37500000 listening history processed\n",
      "37600000 listening history processed\n",
      "37700000 listening history processed\n",
      "37800000 listening history processed\n",
      "37900000 listening history processed\n",
      "38000000 listening history processed\n",
      "38100000 listening history processed\n",
      "38200000 listening history processed\n",
      "38300000 listening history processed\n",
      "38400000 listening history processed\n",
      "38500000 listening history processed\n",
      "38600000 listening history processed\n",
      "38700000 listening history processed\n",
      "38800000 listening history processed\n",
      "38900000 listening history processed\n",
      "39000000 listening history processed\n",
      "39100000 listening history processed\n",
      "39200000 listening history processed\n",
      "39300000 listening history processed\n",
      "39400000 listening history processed\n",
      "39500000 listening history processed\n",
      "39600000 listening history processed\n",
      "39700000 listening history processed\n",
      "39800000 listening history processed\n",
      "39900000 listening history processed\n",
      "40000000 listening history processed\n",
      "40100000 listening history processed\n",
      "40200000 listening history processed\n",
      "40300000 listening history processed\n",
      "40400000 listening history processed\n",
      "40500000 listening history processed\n",
      "40600000 listening history processed\n",
      "40700000 listening history processed\n",
      "40800000 listening history processed\n",
      "40900000 listening history processed\n",
      "41000000 listening history processed\n",
      "41100000 listening history processed\n",
      "41200000 listening history processed\n",
      "41300000 listening history processed\n",
      "41400000 listening history processed\n",
      "41500000 listening history processed\n",
      "41600000 listening history processed\n",
      "41700000 listening history processed\n",
      "41800000 listening history processed\n",
      "41900000 listening history processed\n",
      "42000000 listening history processed\n",
      "42100000 listening history processed\n",
      "42200000 listening history processed\n",
      "42300000 listening history processed\n",
      "42400000 listening history processed\n",
      "42500000 listening history processed\n",
      "42600000 listening history processed\n",
      "42700000 listening history processed\n",
      "42800000 listening history processed\n",
      "42900000 listening history processed\n",
      "43000000 listening history processed\n",
      "43100000 listening history processed\n",
      "43200000 listening history processed\n",
      "43300000 listening history processed\n",
      "43400000 listening history processed\n",
      "43500000 listening history processed\n",
      "43600000 listening history processed\n",
      "43700000 listening history processed\n",
      "43800000 listening history processed\n",
      "43900000 listening history processed\n",
      "44000000 listening history processed\n",
      "44100000 listening history processed\n",
      "44200000 listening history processed\n",
      "44300000 listening history processed\n",
      "44400000 listening history processed\n",
      "44500000 listening history processed\n",
      "44600000 listening history processed\n",
      "44700000 listening history processed\n"
     ]
    },
    {
     "name": "stdout",
     "output_type": "stream",
     "text": [
      "44800000 listening history processed\n",
      "44900000 listening history processed\n",
      "45000000 listening history processed\n",
      "45100000 listening history processed\n",
      "45200000 listening history processed\n",
      "45300000 listening history processed\n",
      "45400000 listening history processed\n",
      "45500000 listening history processed\n",
      "45600000 listening history processed\n",
      "45700000 listening history processed\n",
      "45800000 listening history processed\n",
      "45900000 listening history processed\n",
      "46000000 listening history processed\n",
      "46100000 listening history processed\n",
      "46200000 listening history processed\n",
      "46300000 listening history processed\n",
      "46400000 listening history processed\n",
      "46500000 listening history processed\n",
      "46600000 listening history processed\n",
      "46700000 listening history processed\n",
      "46800000 listening history processed\n",
      "46900000 listening history processed\n",
      "47000000 listening history processed\n",
      "47100000 listening history processed\n",
      "47200000 listening history processed\n",
      "47300000 listening history processed\n",
      "47400000 listening history processed\n",
      "47500000 listening history processed\n",
      "47600000 listening history processed\n",
      "47700000 listening history processed\n",
      "47800000 listening history processed\n",
      "47900000 listening history processed\n",
      "48000000 listening history processed\n",
      "48100000 listening history processed\n",
      "48200000 listening history processed\n",
      "48300000 listening history processed\n",
      "Successful: 772661\n",
      "Not in song mapping: 0\n",
      "Not in track mapping: 0\n"
     ]
    }
   ],
   "source": [
    "import math\n",
    "\n",
    "def transform_cui(play_count):\n",
    "    if play_count == 0:\n",
    "        return 0\n",
    "    \n",
    "    alpha = 1\n",
    "    epsilon = 0.01\n",
    "    return 1 + alpha * math.log(1 + play_count / epsilon)\n",
    "\n",
    "user_item_matrix = build_user_item_matrix(TasteProfileDataset.TPD_TRAIN_PATH, song_categories, valid_song_list_i_to_song, transform_cui)[0]"
   ]
  },
  {
   "cell_type": "code",
   "execution_count": 20,
   "metadata": {},
   "outputs": [
    {
     "name": "stdout",
     "output_type": "stream",
     "text": [
      "(418252, 3688)\n"
     ]
    }
   ],
   "source": [
    "print(user_item_matrix.get_shape())"
   ]
  },
  {
   "cell_type": "code",
   "execution_count": 21,
   "metadata": {
    "pycharm": {
     "is_executing": true,
     "name": "#%%\n"
    }
   },
   "outputs": [
    {
     "name": "stderr",
     "output_type": "stream",
     "text": [
      "WARNING:root:Intel MKL BLAS detected. Its highly recommend to set the environment variable 'export MKL_NUM_THREADS=1' to disable its internal multithreading\n"
     ]
    },
    {
     "data": {
      "application/vnd.jupyter.widget-view+json": {
       "model_id": "dc4d499903d3402bb166d66713cb039a",
       "version_major": 2,
       "version_minor": 0
      },
      "text/plain": [
       "HBox(children=(IntProgress(value=0, max=15), HTML(value='')))"
      ]
     },
     "metadata": {},
     "output_type": "display_data"
    },
    {
     "name": "stdout",
     "output_type": "stream",
     "text": [
      "\n"
     ]
    }
   ],
   "source": [
    "import implicit\n",
    "\n",
    "model = implicit.als.AlternatingLeastSquares(factors=50)\n",
    "model.fit(item_users=user_item_matrix.T)\n",
    "\n",
    "train_user_factors = model.user_factors.copy()\n",
    "train_item_factors = model.item_factors.copy()"
   ]
  },
  {
   "cell_type": "code",
   "execution_count": 22,
   "metadata": {
    "pycharm": {
     "is_executing": true
    }
   },
   "outputs": [
    {
     "name": "stdout",
     "output_type": "stream",
     "text": [
      "(3688, 50)\n"
     ]
    }
   ],
   "source": [
    "print(model.item_factors.shape)"
   ]
  },
  {
   "cell_type": "markdown",
   "metadata": {},
   "source": [
    "## Load Evaluation Data\n",
    "\n",
    "We need to discard recommended songs that are not actually in the (sub-)dataset."
   ]
  },
  {
   "cell_type": "markdown",
   "metadata": {},
   "source": [
    "### Evaluating Predictions with User-Item Matrix"
   ]
  },
  {
   "cell_type": "code",
   "execution_count": 166,
   "metadata": {},
   "outputs": [
    {
     "name": "stdout",
     "output_type": "stream",
     "text": [
      "0 listening history processed\n",
      "100000 listening history processed\n",
      "Successful: 2089\n",
      "Not in song mapping: 0\n",
      "Not in track mapping: 0\n"
     ]
    }
   ],
   "source": [
    "eval_user_item_matrix, user_cat, item_cat = build_user_item_matrix(MSDChallengeDataset.MSDC_EVAL_VISIBLE_PATH, song_categories, valid_song_list_i_to_song, transform_cui)"
   ]
  },
  {
   "cell_type": "code",
   "execution_count": 167,
   "metadata": {},
   "outputs": [
    {
     "data": {
      "application/vnd.jupyter.widget-view+json": {
       "model_id": "73bf8f30f7fa40749c88796ad7e00e94",
       "version_major": 2,
       "version_minor": 0
      },
      "text/plain": [
       "HBox(children=(IntProgress(value=0, max=1780), HTML(value='')))"
      ]
     },
     "metadata": {},
     "output_type": "display_data"
    },
    {
     "name": "stdout",
     "output_type": "stream",
     "text": [
      "\n"
     ]
    }
   ],
   "source": [
    "recommendations = model.recommend_all(eval_user_item_matrix, recalculate_user=True)"
   ]
  },
  {
   "cell_type": "code",
   "execution_count": 168,
   "metadata": {},
   "outputs": [],
   "source": [
    "def get_user_songs(profile_path):\n",
    "    songs = {}\n",
    "    \n",
    "    with open(profile_path, 'r') as f:\n",
    "        for (count, line) in enumerate(f):\n",
    "            user_id, song_id, _ = line.strip().split(\"\\t\")\n",
    "            \n",
    "            if user_id not in songs:\n",
    "                songs[user_id] = set([song_id])\n",
    "            else:\n",
    "                songs[user_id].add(song_id)\n",
    "    \n",
    "    return songs\n",
    "\n",
    "\n",
    "def build_predicted_and_actual_songs(predicted_user_songs, actual_user_songs):\n",
    "    predicted_songs = []\n",
    "    actual_songs = []\n",
    "    \n",
    "    for user_i, user_items in enumerate(recommendations):\n",
    "        predicted_songs_for_user = []\n",
    "        for item in user_items:\n",
    "            predicted_songs_for_user += [song_categories[item]]\n",
    "        predicted_songs += [predicted_songs_for_user]\n",
    "        actual_songs += [list(actual_user_songs[user_cat[user_i]])]\n",
    "    \n",
    "    return predicted_songs, actual_songs\n",
    "\n",
    "\n",
    "actual_user_songs = get_user_songs(MSDChallengeDataset.MSDC_EVAL_HIDDEN_PATH)\n",
    "predicted_songs, actual_songs = build_predicted_and_actual_songs(recommendations, actual_user_songs)\n",
    "\n",
    "\n",
    "eval_user_factors = model.user_factors.copy()\n",
    "eval_item_factors = model.item_factors.copy()"
   ]
  },
  {
   "cell_type": "code",
   "execution_count": 169,
   "metadata": {
    "scrolled": true
   },
   "outputs": [
    {
     "data": {
      "text/plain": [
       "0.0015119047619047618"
      ]
     },
     "execution_count": 169,
     "metadata": {},
     "output_type": "execute_result"
    }
   ],
   "source": [
    "from lib import metrics\n",
    "\n",
    "metrics.mean_average_precision(predicted_songs, actual_songs)"
   ]
  },
  {
   "cell_type": "markdown",
   "metadata": {},
   "source": [
    "### Test"
   ]
  },
  {
   "cell_type": "code",
   "execution_count": 39,
   "metadata": {},
   "outputs": [
    {
     "name": "stdout",
     "output_type": "stream",
     "text": [
      "0 listening history processed\n",
      "100000 listening history processed\n",
      "200000 listening history processed\n",
      "300000 listening history processed\n",
      "400000 listening history processed\n",
      "500000 listening history processed\n",
      "600000 listening history processed\n",
      "700000 listening history processed\n",
      "800000 listening history processed\n",
      "900000 listening history processed\n",
      "1000000 listening history processed\n",
      "1100000 listening history processed\n",
      "1200000 listening history processed\n",
      "1300000 listening history processed\n",
      "Successful: 21039\n",
      "Not in song mapping: 0\n",
      "Not in track mapping: 0\n"
     ]
    }
   ],
   "source": [
    "test_user_item_matrix, user_cat, item_cat = build_user_item_matrix(MSDChallengeDataset.MSDC_TEST_VISIBLE_PATH, song_categories, valid_song_list_i_to_song, transform_cui)"
   ]
  },
  {
   "cell_type": "code",
   "execution_count": 41,
   "metadata": {},
   "outputs": [
    {
     "data": {
      "application/vnd.jupyter.widget-view+json": {
       "model_id": "d3bba26aab0d41c38d5e2dc169c0a181",
       "version_major": 2,
       "version_minor": 0
      },
      "text/plain": [
       "HBox(children=(IntProgress(value=0, max=18042), HTML(value='')))"
      ]
     },
     "metadata": {},
     "output_type": "display_data"
    },
    {
     "name": "stdout",
     "output_type": "stream",
     "text": [
      "\n"
     ]
    }
   ],
   "source": [
    "recommendations = model.recommend_all(test_user_item_matrix, recalculate_user=True)"
   ]
  },
  {
   "cell_type": "code",
   "execution_count": 42,
   "metadata": {},
   "outputs": [
    {
     "data": {
      "text/plain": [
       "0.0011603920657794952"
      ]
     },
     "execution_count": 42,
     "metadata": {},
     "output_type": "execute_result"
    }
   ],
   "source": [
    "actual_user_songs = get_user_songs(MSDChallengeDataset.MSDC_TEST_HIDDEN_PATH)\n",
    "predicted_songs, actual_songs = build_predicted_and_actual_songs(recommendations, actual_user_songs)\n",
    "\n",
    "metrics.mean_average_precision(predicted_songs, actual_songs)"
   ]
  },
  {
   "cell_type": "markdown",
   "metadata": {
    "pycharm": {
     "name": "#%% md\n"
    }
   },
   "source": [
    "---"
   ]
  },
  {
   "cell_type": "markdown",
   "metadata": {
    "pycharm": {
     "name": "#%% md\n"
    }
   },
   "source": [
    "## Using LSTM to Make Predictions\n",
    "\n",
    "The idea is to predict the latent factors from the audio features (framed as a regression problem) to make \n",
    "predictions."
   ]
  },
  {
   "cell_type": "code",
   "execution_count": 27,
   "metadata": {},
   "outputs": [
    {
     "data": {
      "text/plain": [
       "device(type='cpu')"
      ]
     },
     "execution_count": 27,
     "metadata": {},
     "output_type": "execute_result"
    }
   ],
   "source": [
    "import torch\n",
    "import time\n",
    "from torch import randperm\n",
    "from torch._utils import _accumulate\n",
    "\n",
    "device = torch.device(\"cuda:0\" if torch.cuda.is_available() else \"cpu\")\n",
    "device"
   ]
  },
  {
   "cell_type": "code",
   "execution_count": 28,
   "metadata": {
    "pycharm": {
     "is_executing": false,
     "name": "#%%\n"
    }
   },
   "outputs": [],
   "source": [
    "from torch import nn\n",
    "from torch.utils.data import Dataset\n",
    "\n",
    "\n",
    "class MillionSongDataset__Preloaded(Dataset):\n",
    "    \"\"\"MillionSongDataset__Preloaded is for the notebook version where\n",
    "    much of the data is already in memory.\n",
    "    \"\"\"\n",
    "    \n",
    "    def __init__(self, song_id_to_track_id, valid_song_list, latent_factors, ConstantClass):\n",
    "        self.song_id_to_track_id = song_id_to_track_id\n",
    "        self.valid_song_list = valid_song_list\n",
    "        self.ConstantClass = ConstantClass\n",
    "        self.latent_factors = latent_factors\n",
    "    \n",
    "    def __len__(self):\n",
    "        return len(self.valid_song_list)\n",
    "    \n",
    "    def __getitem__(self, idx):\n",
    "        song_id = self.valid_song_list[idx]\n",
    "        track_id = self.song_id_to_track_id[song_id]\n",
    "        track_dir = os.path.join(self.ConstantClass.MSD_DATA_DIR, '/'.join(track_id[2:5]), track_id + '.h5')\n",
    "        h5 = hdf5_getters.open_h5_file_read(track_dir)\n",
    "        \n",
    "        for i in range(hdf5_getters.get_num_songs(h5)):\n",
    "            sid = hdf5_getters.get_song_id(h5, i).decode('utf-8')\n",
    "            if sid != song_id:\n",
    "                continue\n",
    "            timbre = torch.Tensor(hdf5_getters.get_segments_timbre(h5, i))\n",
    "        \n",
    "        h5.close()\n",
    "\n",
    "        return timbre, torch.Tensor(self.latent_factors[idx])\n",
    "\n",
    "\n",
    "class Subset(Dataset):\n",
    "    \"\"\"\n",
    "    Subset of a dataset at specified indices.\n",
    "\n",
    "    Arguments:\n",
    "        dataset (Dataset): The whole Dataset\n",
    "        indices (sequence): Indices in the whole set selected for subset\n",
    "    \"\"\"\n",
    "    def __init__(self, dataset, indices):\n",
    "        self.dataset = dataset\n",
    "        self.indices = indices\n",
    "\n",
    "    def __getitem__(self, idx):\n",
    "        return self.dataset[self.indices[idx]]\n",
    "\n",
    "    def __len__(self):\n",
    "        return len(self.indices)\n",
    "\n",
    "    \n",
    "def random_split(dataset, lengths):\n",
    "    r\"\"\"\n",
    "    Randomly split a dataset into non-overlapping new datasets of given lengths.\n",
    "\n",
    "    Arguments:\n",
    "        dataset (Dataset): Dataset to be split\n",
    "        lengths (sequence): lengths of splits to be produced\n",
    "    \"\"\"\n",
    "    if sum(lengths) != len(dataset):\n",
    "        raise ValueError(\"Sum of input lengths does not equal the length of the input dataset!\")\n",
    "\n",
    "    indices = randperm(sum(lengths)).tolist()\n",
    "    return [Subset(dataset, indices[offset - length:offset]) for offset, length in zip(_accumulate(lengths), lengths)]\n"
   ]
  },
  {
   "cell_type": "code",
   "execution_count": 29,
   "metadata": {},
   "outputs": [],
   "source": [
    "from torch.nn.utils.rnn import pack_padded_sequence\n",
    "\n",
    "class LSTMToLatentFactor(nn.Module):\n",
    "    def __init__(self, input_dim=12, hidden_dim=72, output_dim=50):\n",
    "        super(LSTMToLatentFactor, self).__init__()\n",
    "        self.hidden_dim = hidden_dim\n",
    "        self.lstm = nn.LSTM(input_dim, hidden_dim, batch_first=True)\n",
    "        self.linear = nn.Linear(hidden_dim, output_dim)\n",
    "\n",
    "    def forward(self, batch):\n",
    "        sequences, sequence_lengths, _ = batch\n",
    "        sequences_packed = pack_padded_sequence(sequences, sequence_lengths, batch_first=True)\n",
    "        h0 = torch.zeros([1, sequences.shape[0], self.hidden_dim], dtype=torch.float)\n",
    "        c0 = torch.zeros([1, sequences.shape[0], self.hidden_dim], dtype=torch.float)\n",
    "        lstm_out, (h, c) = self.lstm(sequences_packed, (h0, c0))\n",
    "        final_h = h[-1]\n",
    "        regressor_out = self.linear(final_h.view(sequences.shape[0], -1))\n",
    "        return regressor_out\n"
   ]
  },
  {
   "cell_type": "code",
   "execution_count": 30,
   "metadata": {},
   "outputs": [],
   "source": [
    "def collate_fn(batch):\n",
    "    \"\"\"Because songs have different lengths, let's pad them to uniform lengths.\"\"\"\n",
    "    # https://www.codefull.net/2018/11/use-pytorchs-dataloader-with-variable-length-sequences-for-lstm-gru/\n",
    "    sorted_pairs = sorted(batch, key=lambda x: x[0].shape[0], reverse=True)\n",
    "    sequences = [torch.Tensor(x[0]) for x in sorted_pairs]\n",
    "    sequences_padded = nn.utils.rnn.pad_sequence(sequences, batch_first=True)\n",
    "    lengths = torch.Tensor([sequence.shape[0] for sequence in sequences])\n",
    "    latent_f = torch.FloatTensor([x[1].numpy() for x in sorted_pairs])\n",
    "    return sequences_padded, lengths, latent_f"
   ]
  },
  {
   "cell_type": "code",
   "execution_count": 35,
   "metadata": {},
   "outputs": [],
   "source": [
    "# https://nusit.nus.edu.sg/technus/hpc/deep-learning-best-practices-checkpointing-deep-learning-model-training/\n",
    "\n",
    "import shutil\n",
    "\n",
    "\n",
    "def has_checkpoint(checkpoint, is_best=False):\n",
    "    if is_best:\n",
    "        filepath = os.path.join(checkpoint, 'best.pth.tar')\n",
    "    else:\n",
    "        filepath = os.path.join(checkpoint, 'last.pth.tar')\n",
    "    return os.path.exists(filepath)\n",
    "\n",
    "\n",
    "def save_checkpoint(state, is_best, checkpoint):\n",
    "    \"\"\"Saves model and training parameters at checkpoint + 'last.pth.tar'. If is_best==True, also saves\n",
    "    checkpoint + 'best.pth.tar'\n",
    "    Args:\n",
    "        state: (dict) contains model's state_dict, may contain other keys such as epoch, optimizer state_dict\n",
    "        is_best: (bool) True if it is the best model seen till now\n",
    "        checkpoint: (string) folder where parameters are to be saved\n",
    "    \"\"\"\n",
    "    filepath = os.path.join(checkpoint, 'last.pth.tar')\n",
    "    if not os.path.exists(checkpoint):\n",
    "        print(\"Checkpoint directory does not exist. Making directory {}\".format(checkpoint))\n",
    "        os.makedirs(checkpoint)\n",
    "    torch.save(state, filepath)\n",
    "    if is_best:\n",
    "        shutil.copyfile(filepath, os.path.join(checkpoint, 'best.pth.tar'))\n",
    "\n",
    "\n",
    "def load_checkpoint(checkpoint, model, optimizer=None):\n",
    "    \"\"\"Loads model parameters (state_dict) from file_path. If optimizer is provided, loads state_dict of\n",
    "    optimizer assuming it is present in checkpoint.\n",
    "    Args:\n",
    "        checkpoint: (string) filename which needs to be loaded\n",
    "        model: (torch.nn.Module) model for which the parameters are loaded\n",
    "        optimizer: (torch.optim) optional: resume optimizer from checkpoint\n",
    "    \"\"\"\n",
    "    if not os.path.exists(checkpoint):\n",
    "        raise(\"File doesn't exist {}\".format(checkpoint))\n",
    "    checkpoint = torch.load(checkpoint)\n",
    "    model.load_state_dict(checkpoint['state_dict'])\n",
    "\n",
    "    if optimizer:\n",
    "        optimizer.load_state_dict(checkpoint['optim_dict'])\n",
    "\n",
    "    return checkpoint"
   ]
  },
  {
   "cell_type": "code",
   "execution_count": 179,
   "metadata": {},
   "outputs": [],
   "source": [
    "train_valid_songs = song_subset.get_trainable_songs([train_tpd])\n",
    "train_valid_songs &= set(song_id_to_track_id.keys())\n",
    "train_valid_song_list = list(train_valid_songs)"
   ]
  },
  {
   "cell_type": "code",
   "execution_count": null,
   "metadata": {
    "scrolled": true
   },
   "outputs": [
    {
     "name": "stdout",
     "output_type": "stream",
     "text": [
      "Loading from best\n",
      "Epoch 1/1\n"
     ]
    }
   ],
   "source": [
    "msd = MillionSongDataset__Preloaded(song_id_to_track_id, train_valid_song_list, train_item_factors, SubsetDataset)\n",
    "lstm_model = LSTMToLatentFactor().to(device)\n",
    "train_data_count = int(len(train_valid_song_list) * 0.8)\n",
    "valid_data_count = int(len(train_valid_song_list) * 0.1)\n",
    "test_data_count = len(train_valid_song_list) - train_data_count - valid_data_count\n",
    "train_dataset, valid_dataset, test_dataset = random_split(msd, [train_data_count, valid_data_count, test_data_count])\n",
    "\n",
    "train_data_loader = torch.utils.data.DataLoader(dataset=train_dataset,\n",
    "                                                batch_size=100,\n",
    "                                                collate_fn=collate_fn)\n",
    "valid_data_loader = torch.utils.data.DataLoader(dataset=valid_dataset,\n",
    "                                                batch_size=100,\n",
    "                                                collate_fn=collate_fn)\n",
    "\n",
    "best_dev_mae = -1\n",
    "\n",
    "learning_rate = 0.01\n",
    "epochs = 1\n",
    "save_every = 50\n",
    "eval_every = 100\n",
    "log_every = 10\n",
    "\n",
    "criterion = torch.nn.MSELoss()\n",
    "optimizer = torch.optim.Adam(lstm_model.parameters(), lr=learning_rate)\n",
    "checkpoint_path = os.path.join('.', 'model', 'checkpoints', 'lstm')\n",
    "iterations = 0\n",
    "start_epoch = 0\n",
    "\n",
    "if has_checkpoint(checkpoint_path, is_best=True) or has_checkpoint(checkpoint_path):\n",
    "    if has_checkpoint(checkpoint_path, is_best=True):\n",
    "        print('Loading from best')\n",
    "        checkpoint = load_checkpoint(os.path.join(checkpoint_path, 'best.pth.tar'), lstm_model)\n",
    "    else:\n",
    "        print('Loading from last')\n",
    "        checkpoint = load_checkpoint(os.path.join(checkpoint_path, 'last.pth.tar'), lstm_model)\n",
    "    \n",
    "    best_dev_mae = checkpoint['best_dev_mae']\n",
    "    learning_rate = checkpoint['learning_rate']\n",
    "    start_epoch = checkpoint['epoch']\n",
    "    iterations = checkpoint['iterations']\n",
    "\n",
    "for epoch in range(start_epoch, epochs):\n",
    "    print(f'Epoch {epoch+1}/{epochs}')\n",
    "    start_time = time.time()\n",
    "    \n",
    "    for batch_idx, batch in enumerate(train_data_loader):\n",
    "        if iterations > batch_idx:\n",
    "            continue\n",
    "        \n",
    "        iterations += 1\n",
    "        \n",
    "        latent_factors = batch[2]\n",
    "        \n",
    "        lstm_model.train()\n",
    "        optimizer.zero_grad()\n",
    "        model_out = lstm_model(batch)\n",
    "        loss = criterion(model_out, latent_factors)\n",
    "        loss.backward()\n",
    "        optimizer.step()\n",
    "        \n",
    "        if iterations % save_every == 0:\n",
    "            print(f'Saving checkpoint at iteration {iterations}')\n",
    "            \n",
    "            save_checkpoint({\n",
    "                'epoch': epoch,\n",
    "                'iterations': iterations,\n",
    "                'state_dict': lstm_model.state_dict(),\n",
    "                'best_dev_mae': best_dev_mae,\n",
    "                'learning_rate': learning_rate,\n",
    "                'optim_dict': optimizer.state_dict(),\n",
    "            }, False, checkpoint_path)\n",
    "        \n",
    "        if iterations % eval_every == 0:\n",
    "            # switch model to evaluation mode\n",
    "            lstm_model.eval()\n",
    "\n",
    "            # calculate accuracy on validation set\n",
    "            dev_mae = 0\n",
    "            with torch.no_grad():\n",
    "                for dev_batch in valid_data_loader:\n",
    "                    dev_latent_factors = dev_batch[2]\n",
    "                    dev_model_out = lstm_model(dev_batch)\n",
    "                    dev_loss = criterion(dev_model_out, dev_latent_factors)\n",
    "                    dev_mae += dev_loss.item()\n",
    "                dev_mae /= valid_data_count\n",
    "\n",
    "            print(f'{time.time()-start_time} Epoch: {epoch} Iterations: {iterations} MAE: {loss.item()} Dev MAE: {dev_mae}')\n",
    "\n",
    "            # update best valiation set accuracy\n",
    "            if dev_mae > best_dev_mae:\n",
    "                best_dev_mae = dev_mae\n",
    "                print('Saving best model yet')\n",
    "                \n",
    "                save_checkpoint({\n",
    "                    'epoch': epoch,\n",
    "                    'iterations': iterations,\n",
    "                    'state_dict': lstm_model.state_dict(),\n",
    "                    'best_dev_mae': best_dev_mae,\n",
    "                    'learning_rate': learning_rate,\n",
    "                    'optim_dict': optimizer.state_dict(),\n",
    "                }, True, checkpoint_path)\n",
    "        \n",
    "        elif iterations % log_every == 0:\n",
    "            print(f'{time.time()-start_time} Epoch: {epoch} Iterations: {iterations} MAE: {loss.item()}')\n",
    "\n",
    "lstm_model.eval()\n",
    "\n",
    "# calculate accuracy on validation set\n",
    "dev_mae = 0\n",
    "with torch.no_grad():\n",
    "    for dev_batch in valid_data_loader:\n",
    "        dev_latent_factors = dev_batch[2]\n",
    "        dev_model_out = lstm_model(dev_batch)\n",
    "        dev_loss = criterion(dev_model_out, dev_latent_factors)\n",
    "        dev_mae += dev_loss.item()\n",
    "    dev_mae /= valid_data_count\n",
    "\n",
    "print(f'{time.time()-start_time} Epoch: {epoch} Iterations: {iterations} MAE: {loss.item()} Dev MAE: {dev_mae}')\n",
    "\n",
    "# update best valiation set accuracy\n",
    "if dev_mae > best_dev_mae:\n",
    "    best_dev_mae = dev_mae\n",
    "    print('Saving best model yet')\n",
    "\n",
    "    save_checkpoint({\n",
    "        'epoch': epoch,\n",
    "        'iterations': iterations,\n",
    "        'state_dict': lstm_model.state_dict(),\n",
    "        'best_dev_mae': best_dev_mae,\n",
    "        'learning_rate': learning_rate,\n",
    "        'optim_dict': optimizer.state_dict(),\n",
    "    }, True, checkpoint_path)\n",
    "else:\n",
    "    load_checkpoint(os.path.join(checkpoint_path, 'last.pth.tar'), lstm_model)"
   ]
  },
  {
   "cell_type": "code",
   "execution_count": 46,
   "metadata": {},
   "outputs": [
    {
     "name": "stdout",
     "output_type": "stream",
     "text": [
      "torch.Size([100, 1848, 12])\n",
      "torch.Size([100, 2982, 12])\n",
      "torch.Size([100, 1933, 12])\n",
      "torch.Size([70, 2796, 12])\n"
     ]
    }
   ],
   "source": [
    "# Test the model.\n",
    "test_data_loader = torch.utils.data.DataLoader(dataset=test_dataset,\n",
    "                                                batch_size=100,\n",
    "                                                collate_fn=collate_fn)\n",
    "\n",
    "lstm_model.eval()\n",
    "\n",
    "test_mae = 0\n",
    "with torch.no_grad():\n",
    "    for test_batch in test_data_loader:\n",
    "        print(test_batch[0].shape)\n",
    "        test_latent_factors = test_batch[2]\n",
    "        test_model_out = lstm_model(test_batch)\n",
    "        test_loss = criterion(test_model_out, test_latent_factors)\n",
    "        test_mae += test_loss.item()\n",
    "    test_mae /= test_data_count"
   ]
  },
  {
   "cell_type": "markdown",
   "metadata": {},
   "source": [
    "## Make Some Recommendations!"
   ]
  },
  {
   "cell_type": "code",
   "execution_count": 86,
   "metadata": {},
   "outputs": [],
   "source": [
    "# First, we get the user factors for these new users.\n",
    "test_user_factors = model.user_factors[:test_user_item_matrix.shape[0], :]\n",
    "\n",
    "valid_songs = song_subset.get_trainable_songs([train_tpd, val_msc_visible, val_msc_hidden, test_msc_visible, test_msc_hidden])\n",
    "valid_songs &= set(song_id_to_track_id.keys())\n",
    "valid_song_list = list(valid_songs)\n"
   ]
  },
  {
   "cell_type": "code",
   "execution_count": 102,
   "metadata": {},
   "outputs": [],
   "source": [
    "from scipy.sparse import lil_matrix, csr_matrix\n",
    "\n",
    "full_msd = MillionSongDataset__Preloaded(song_id_to_track_id, valid_song_list, train_item_factors, SubsetDataset)\n",
    "full_item_factors = lil_matrix((len(valid_song_list), 50), dtype='f')\n",
    "\n",
    "full_data_loader = torch.utils.data.DataLoader(dataset=full_msd,\n",
    "                                               batch_size=100,\n",
    "                                               collate_fn=collate_fn)\n",
    "\n",
    "for batch_idx, batch in enumerate(full_data_loader):\n",
    "    output = lstm_model(batch)\n",
    "    output = output.to('cpu').detach().numpy()\n",
    "    full_item_factors[batch_idx*100:min(batch_idx*100 + 100, len(valid_song_list))] = lil_matrix(output)\n"
   ]
  },
  {
   "cell_type": "code",
   "execution_count": 114,
   "metadata": {},
   "outputs": [],
   "source": [
    "full_item_factors = full_item_factors.tocsr()\n",
    "test_user_factors = csr_matrix(test_user_factors)\n",
    "lstm_recommendation_mat = test_user_factors.dot(full_item_factors.T)"
   ]
  },
  {
   "cell_type": "code",
   "execution_count": 157,
   "metadata": {},
   "outputs": [
    {
     "data": {
      "text/plain": [
       "<18042x10 sparse matrix of type '<class 'numpy.int64'>'\n",
       "\twith 180420 stored elements in LInked List format>"
      ]
     },
     "execution_count": 157,
     "metadata": {},
     "output_type": "execute_result"
    }
   ],
   "source": [
    "def max_n(row_data, row_indices, n):\n",
    "    # https://stackoverflow.com/questions/31790819/scipy-sparse-csr-matrix-how-to-get-top-ten-values-and-indices\n",
    "    i = row_data[0].argsort()[0, -n:]\n",
    "    top_values = row_data[0, i]\n",
    "    top_indices = row_indices[i]  # do the sparse indices matter?\n",
    "    return top_values, top_indices, i\n",
    "\n",
    "def get_recommendations_all(recommendation_mat, n=10):\n",
    "    recommendations = lil_matrix((recommendation_mat.shape[0], n), dtype='int')\n",
    "    for r in range(recommendation_mat.shape[0]):\n",
    "        max_songs = max_n(recommendation_mat[r].todense(), np.arange(recommendation_mat.shape[1]), n)[1]\n",
    "        recommendations[r, :] = lil_matrix(max_songs)\n",
    "    return recommendations\n",
    "\n",
    "lstm_recommendations = get_recommendations_all(lstm_recommendation_mat)"
   ]
  },
  {
   "cell_type": "code",
   "execution_count": 172,
   "metadata": {},
   "outputs": [
    {
     "data": {
      "text/plain": [
       "0.0015119047619047618"
      ]
     },
     "execution_count": 172,
     "metadata": {},
     "output_type": "execute_result"
    }
   ],
   "source": [
    "predicted_songs, actual_songs = build_predicted_and_actual_songs(lstm_recommendations.todense(), actual_user_songs)\n",
    "metrics.mean_average_precision(predicted_songs, actual_songs)"
   ]
  },
  {
   "cell_type": "code",
   "execution_count": null,
   "metadata": {},
   "outputs": [],
   "source": []
  }
 ],
 "metadata": {
  "file_extension": ".py",
  "kernelspec": {
   "display_name": "Python 3",
   "language": "python",
   "name": "python3"
  },
  "mimetype": "text/x-python",
  "name": "python",
  "npconvert_exporter": "python",
  "pycharm": {
   "stem_cell": {
    "cell_type": "raw",
    "metadata": {
     "collapsed": false
    },
    "source": []
   }
  },
  "pygments_lexer": "ipython3",
  "version": 3
 },
 "nbformat": 4,
 "nbformat_minor": 2
}
